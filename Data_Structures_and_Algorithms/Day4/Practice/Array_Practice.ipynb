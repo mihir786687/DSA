{
  "nbformat": 4,
  "nbformat_minor": 0,
  "metadata": {
    "colab": {
      "name": "Array_Practice.ipynb",
      "provenance": []
    },
    "kernelspec": {
      "name": "python3",
      "display_name": "Python 3"
    },
    "language_info": {
      "name": "python"
    }
  },
  "cells": [
    {
      "cell_type": "code",
      "source": [
        "#Finding Minimum element from the array\n",
        "import array as arr\n",
        "list1 = arr.array(\"i\",[1,-2,3,0,5])\n",
        "print(list1)\n",
        "mini = list1[0]\n",
        "for i in list1:\n",
        "  if i<=mini:\n",
        "    mini = i\n",
        "print(mini)"
      ],
      "metadata": {
        "colab": {
          "base_uri": "https://localhost:8080/"
        },
        "id": "ZHDNeRJss7RA",
        "outputId": "1f017e50-ff3c-4e25-9f29-81d9658e20ae"
      },
      "execution_count": 5,
      "outputs": [
        {
          "output_type": "stream",
          "name": "stdout",
          "text": [
            "array('i', [1, -2, 3, 0, 5])\n",
            "-2\n"
          ]
        }
      ]
    },
    {
      "cell_type": "code",
      "source": [
        "#Find Minimum from the sorted array\n",
        "list1 = arr.array(\"i\",[1,2,3,4,5])\n",
        "print(\"The minimum element is the first element {}\".format(list1[0]))"
      ],
      "metadata": {
        "colab": {
          "base_uri": "https://localhost:8080/"
        },
        "id": "1eX59NKQvQFo",
        "outputId": "379babe2-e060-4d31-ae43-4ffae9fb6c5a"
      },
      "execution_count": 8,
      "outputs": [
        {
          "output_type": "stream",
          "name": "stdout",
          "text": [
            "The minimum element is the first element 1\n"
          ]
        }
      ]
    },
    {
      "cell_type": "code",
      "source": [
        "#Find minimum element in a sorted and rotated array\n",
        " \n",
        "def findMin(arr, low, high):\n",
        "    # This condition is needed to handle the case when array is not\n",
        "    # rotated at all\n",
        "    if high < low:\n",
        "        return arr[0]\n",
        " \n",
        "    # If there is only one element left\n",
        "    if high == low:\n",
        "        return arr[low]\n",
        " \n",
        "    # Find mid\n",
        "    mid = int((low + high)/2)\n",
        " \n",
        "    # Check if element (mid+1) is minimum element. Consider\n",
        "    # the cases like [3, 4, 5, 1, 2]\n",
        "    if mid < high and arr[mid+1] < arr[mid]:\n",
        "        return arr[mid+1]\n",
        " \n",
        "    # Check if mid itself is minimum element\n",
        "    # the cases like [4, 5, 1, 2, 3]\n",
        "    if mid > low and arr[mid] < arr[mid - 1]:\n",
        "        return arr[mid]\n",
        " \n",
        "    # Decide whether we need to go to left half or right half\n",
        "    if arr[high] > arr[mid]:\n",
        "        return findMin(arr, low, mid-1)\n",
        "    return findMin(arr, mid+1, high)\n",
        "\n",
        "\n",
        "list1 = arr.array(\"i\",[2,3,4,5,1])\n",
        "answer = findMin(list1,0,4)\n",
        "print(answer)"
      ],
      "metadata": {
        "colab": {
          "base_uri": "https://localhost:8080/"
        },
        "id": "3fwHO1IKv8vK",
        "outputId": "1222bd99-637d-4cfd-f955-75da1798c0ca"
      },
      "execution_count": 9,
      "outputs": [
        {
          "output_type": "stream",
          "name": "stdout",
          "text": [
            "1\n"
          ]
        }
      ]
    },
    {
      "cell_type": "code",
      "source": [
        "# Find maximum value of sum(i*arr[i]) with only rotations on given array\n",
        "import sys\n",
        "list1 = arr.array(\"i\",[1,3,2,4,5])\n",
        "result = arr.array(\"i\",[])\n",
        "sum = 0\n",
        "answer = sys.maxsize\n",
        "answer = answer*(-1)\n",
        "for i in range(0,len(list1)):\n",
        "  sum = 0\n",
        "  for j in range(0,len(list1)):\n",
        "    sum+=j*list1[j]\n",
        "  if answer<sum:\n",
        "    answer = sum\n",
        "    result = list1\n",
        "  temp = list1[0]\n",
        "  for j in range(0,len(list1)-1):\n",
        "    list1[j] = list1[j+1]\n",
        "  list1[len(list1)-1] = temp\n",
        "\n",
        "print(result,end=\"\\n\")\n",
        "print(answer)"
      ],
      "metadata": {
        "colab": {
          "base_uri": "https://localhost:8080/"
        },
        "id": "rl1Z0WpMyGAH",
        "outputId": "5e1eb089-994f-4b1d-9943-cc4d093bfed4"
      },
      "execution_count": 19,
      "outputs": [
        {
          "output_type": "stream",
          "name": "stdout",
          "text": [
            "array('i', [1, 3, 2, 4, 5])\n",
            "39\n"
          ]
        }
      ]
    },
    {
      "cell_type": "code",
      "source": [
        "#Move all zeros to end of Array\n",
        "\n",
        "list1 = arr.array(\"i\",[1,0,4,0,5])\n",
        "firstpointer = 0\n",
        "lastpointer = len(list1)-1\n",
        "\n",
        "for i in range(0,len(list1)):\n",
        "  if list1[i]==0:\n",
        "    temp = list1[lastpointer]\n",
        "    list1[lastpointer] = 0\n",
        "    list1[i] = temp\n",
        "\n",
        "print(list1,end=\"\\n\")"
      ],
      "metadata": {
        "colab": {
          "base_uri": "https://localhost:8080/"
        },
        "id": "gC-d4IfBzNWl",
        "outputId": "56250abd-1491-4c0c-e280-41622c98d03b"
      },
      "execution_count": 21,
      "outputs": [
        {
          "output_type": "stream",
          "name": "stdout",
          "text": [
            "array('i', [1, 5, 4, 0, 0])\n"
          ]
        }
      ]
    }
  ]
}